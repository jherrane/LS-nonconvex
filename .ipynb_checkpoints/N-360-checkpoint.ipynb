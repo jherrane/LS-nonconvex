{
 "cells": [
  {
   "cell_type": "code",
   "execution_count": 1,
   "metadata": {},
   "outputs": [],
   "source": [
    "%matplotlib notebook\n",
    "import numpy as np, matplotlib.pyplot as plt\n",
    "from mpl_toolkits.mplot3d import Axes3D\n",
    "from mpl_toolkits import mplot3d\n",
    "from points import *\n",
    "from LS import *\n",
    "from scipy.spatial.transform import Rotation as R\n",
    "from numpy import pi as π, sin, cos, tan, sqrt, log, arctanh\n",
    "from matplotlib import cm\n",
    "\n",
    "plt.rcParams[\"font.family\"] = \"Lucida Grande\"\n",
    "plt.rcParams[\"font.size\"] = 16\n",
    "plt.style.use(\"ggplot\")\n",
    "\n",
    "# Silly hacks for avoiding singular points and not showing rotation matrix warnings\n",
    "zero = 1e-3\n",
    "import warnings\n",
    "warnings.filterwarnings(\"ignore\")"
   ]
  },
  {
   "cell_type": "code",
   "execution_count": 2,
   "metadata": {},
   "outputs": [],
   "source": [
    "a = 1\n",
    "b = 0.86\n",
    "c = 0.82\n",
    "n = 500\n",
    "\n",
    "P, T = genellip(a, b, c, n, sigma=0.12, ell = 0.3, gid = 1)  \n",
    "T, N, C = surface_normals(P, T)"
   ]
  },
  {
   "cell_type": "code",
   "execution_count": 7,
   "metadata": {},
   "outputs": [
    {
     "name": "stdout",
     "output_type": "stream",
     "text": [
      "[ 60  61  74 222 505 221 240  73 225   3 250 223 239 506 504 235 224   4\n",
      " 538 654 384 376 377   8 238 657   5 236 537  69 251 237  70 787 534   7\n",
      "  71 375 234 503 244 381 233 378 652 516 243 542 577 511 578 656 841 543\n",
      " 508 840 836 515 380 576 579 149 509 514 789  76 379 301 533 786 544 540\n",
      " 839 838 512 624 513 507 522 383 302 837 539 655 382 256 510  77 653 253\n",
      " 521  72 535 625 541 246  28 631 247 630 536 298 145 255 260 517 788 790\n",
      " 518 262 144 242  75 812  41  79 811 373 254 623 371 249 791 797 358 799\n",
      " 792 359 432 798 143 257 300 808   9 628 252 629 261 520 241  78  44 131\n",
      " 809 374 372 796 299 248 622 140 337 433  39 940 357 939 810 795 727 258\n",
      " 259 807 995  29 519 722   6 532 994 370  86 806 793 726 142 794  40 147\n",
      " 531 132  43 626 529 627  87 130 938 141 199 813  83 941  84  46 990 816\n",
      " 723 148  85 815  38 483 195 368 725 190 146 135 991 198  82 335 336 356\n",
      " 724 481 245 137 352  45 530 805 431 547 450 482 451 935 936 194 937 942\n",
      " 192  42 804 177 814 138 263  37 546  80 367 366 803 993 136 545 167 193\n",
      " 992 191 267 637 484  81 448 621 355 178 781 452 200 353 469 732 636 620\n",
      " 931 139 817 133 801 189 934 134 548 340 783 780 818 168 161 470 201 449\n",
      " 731 549 266 800 176 354 943 730 175  63 341 215 162 802 944 873 188 174\n",
      "  22 650 776 264 265 216 782  56 876 785 214 339 361 524 365 823 778 932\n",
      " 774 635 523 618 933 128 171 784 874 297 729  62 164 634 169 819 181  64\n",
      " 183 728 619  48 228 875 649 213 775 360 820 338 779  23 502 211 165 172\n",
      " 227 364 170 434 127  65 182 777 714  47 822 498 571 501 184 173 955 435\n",
      " 570 475 342 821 478 733 954 632 872 633   2 871 734 525 210 617 343 362\n",
      " 526 616 480   1 651  66 296 179 363 870 442 226 479 746 458 437 487 497\n",
      " 180 476 309 527  30 486 500 477 956 310 528 953 369 443  68 834 715 212\n",
      " 747  26 642 436 638 569 334   0 231  50 333 716 412 230 197  24 499 295\n",
      " 446 472 748  27 488 644 294 313 459  32 411 314 471 952  31 648 951 485\n",
      " 196 160  54 444  55 439 641  25 202  67 583 835 129 438 640 286 575 582\n",
      " 232 102  16 986 440 474 643  19 460 473 103 441 447 928 311 489 284 413\n",
      " 445 647  33 287 229  53 985 490 639 155  35 702 414 832 312 984 773 703\n",
      "  49 203 833 929 156 580 772 349  51 420 461  52 398 348 908 847 562 909\n",
      " 493 419 574 646 645 399 846 491  34 163 770 462 350 718 101 852 987 416\n",
      " 563 205 930 285  36 853 344 989 700 204 670 717 573 154 561 159 351 701\n",
      " 111 581 827 911 466 771 906 927 572 494 397 988 842 421 706 907 207 347\n",
      " 150 826 492 769 850 845 394 293 418 669 556 112 564 345 409 415 558 396\n",
      " 719 768 109 851 910 113 560 912 710 707 410 828 467 206 110 709 346 587\n",
      " 905 904 917 697 557 280 495 919 496 319 559 389 720 721 844 824 422 100\n",
      " 738 698 390 400 843 468 918 395 423 848 825 705 283 699 122 704 849 417\n",
      " 123 186 711 429 464 554 401 708 208 166 971 388 920 829 316 424 322 737\n",
      " 318 465 949 321 735 209 586 279 972 428 922 385 315 320 901 282 950 454\n",
      " 453 946 425 750 736 886 317 897 187 921 108 831 430 885 969  58 121  57\n",
      " 713 185 712 915 555 387 590 585 914 902 426 591 898 386 592 593 281 427\n",
      " 584 742 970 749 948 455 456 945 923 759 881 916 830 658 325 664  20 118\n",
      " 153 741 926 665 884 119 691 758 978 151 457 899 947 323  59 326 903 589\n",
      " 761  17 977 743 393 218 588 594 752 924 327 595 756 663 900 973 980 660\n",
      " 913 882 152  21 757 217 883 666 610 744 760 690 767 117 674 219 391 981\n",
      " 755 745 958 959 659 762 976 268 607 751 766 673 408 606 672 324 405 328\n",
      " 896 974 979 925 668 597 596 611 667 892 891 125 694 975 763 754 392 406\n",
      " 765 329 220 982 739 753 609 600 681 895 120 661 671 960 764 269 983 957\n",
      " 887 463 740 863 696 608 894 407 855 601 685 888 680 854 893 695 126 679\n",
      " 403  88 602  89  90 890 272 692 553 124  10 552 615 687 889 662 271 693\n",
      " 612 274 684 114 158 157 550 689  91 880 686 551 688 967 683 330 675 961\n",
      " 879 404 603 962 614  97 860 682 275 856 857 968 276 604 278 270  93 613\n",
      " 676 966 332  92 402 877  98 277  94 273 963 878 605  95  96 965 964  15\n",
      " 116 291 678 331 288 869 864  13  14 115 859 598 677 858 304 861  11 290\n",
      " 305 862 866 868 599 107 105 289 303 865 306 867  12 292  18  99 565 566\n",
      " 104 308 106 307 567 568]\n"
     ]
    },
    {
     "ename": "NameError",
     "evalue": "name 'M' is not defined",
     "output_type": "error",
     "traceback": [
      "\u001b[0;31m---------------------------------------------------------------------------\u001b[0m",
      "\u001b[0;31mNameError\u001b[0m                                 Traceback (most recent call last)",
      "\u001b[0;32m<ipython-input-7-a01f70b8a7fd>\u001b[0m in \u001b[0;36m<module>\u001b[0;34m()\u001b[0m\n\u001b[1;32m     56\u001b[0m \u001b[0;34m\u001b[0m\u001b[0m\n\u001b[1;32m     57\u001b[0m \u001b[0;32mfor\u001b[0m \u001b[0mi\u001b[0m\u001b[0;34m,\u001b[0m \u001b[0mfi\u001b[0m \u001b[0;32min\u001b[0m \u001b[0menumerate\u001b[0m\u001b[0;34m(\u001b[0m\u001b[0mφ\u001b[0m\u001b[0;34m)\u001b[0m\u001b[0;34m:\u001b[0m\u001b[0;34m\u001b[0m\u001b[0;34m\u001b[0m\u001b[0m\n\u001b[0;32m---> 58\u001b[0;31m     \u001b[0mΓ\u001b[0m\u001b[0;34m[\u001b[0m\u001b[0mi\u001b[0m\u001b[0;34m,\u001b[0m\u001b[0;34m:\u001b[0m\u001b[0;34m]\u001b[0m \u001b[0;34m=\u001b[0m \u001b[0mΓ_LSt\u001b[0m\u001b[0;34m(\u001b[0m\u001b[0mP\u001b[0m\u001b[0;34m,\u001b[0m \u001b[0mT\u001b[0m\u001b[0;34m,\u001b[0m \u001b[0mC\u001b[0m\u001b[0;34m,\u001b[0m \u001b[0mN\u001b[0m\u001b[0;34m,\u001b[0m \u001b[0mφ\u001b[0m \u001b[0;34m=\u001b[0m \u001b[0mfi\u001b[0m\u001b[0;34m,\u001b[0m \u001b[0mβ\u001b[0m \u001b[0;34m=\u001b[0m \u001b[0mβ\u001b[0m\u001b[0;34m,\u001b[0m \u001b[0mλ\u001b[0m \u001b[0;34m=\u001b[0m \u001b[0mλ\u001b[0m\u001b[0;34m,\u001b[0m \u001b[0mconvex\u001b[0m \u001b[0;34m=\u001b[0m \u001b[0;32mFalse\u001b[0m\u001b[0;34m)\u001b[0m\u001b[0;34m\u001b[0m\u001b[0;34m\u001b[0m\u001b[0m\n\u001b[0m\u001b[1;32m     59\u001b[0m     \u001b[0;32mif\u001b[0m \u001b[0mnp\u001b[0m\u001b[0;34m.\u001b[0m\u001b[0mmod\u001b[0m\u001b[0;34m(\u001b[0m\u001b[0mi\u001b[0m\u001b[0;34m,\u001b[0m\u001b[0;36m10\u001b[0m\u001b[0;34m)\u001b[0m\u001b[0;34m==\u001b[0m\u001b[0;36m10\u001b[0m\u001b[0;34m:\u001b[0m \u001b[0mprint\u001b[0m\u001b[0;34m(\u001b[0m\u001b[0;34m(\u001b[0m\u001b[0mi\u001b[0m\u001b[0;34m+\u001b[0m\u001b[0;36m1\u001b[0m\u001b[0;34m)\u001b[0m\u001b[0;34m,\u001b[0m\u001b[0;34m'/'\u001b[0m\u001b[0;34m,\u001b[0m\u001b[0mφ\u001b[0m\u001b[0;34m.\u001b[0m\u001b[0msize\u001b[0m\u001b[0;34m)\u001b[0m\u001b[0;34m\u001b[0m\u001b[0;34m\u001b[0m\u001b[0m\n",
      "\u001b[0;32m<ipython-input-7-a01f70b8a7fd>\u001b[0m in \u001b[0;36mΓ_LSt\u001b[0;34m(P, T, C, N, φ, β, λ, convex)\u001b[0m\n\u001b[1;32m     48\u001b[0m                     \u001b[0mvis\u001b[0m\u001b[0;34m[\u001b[0m\u001b[0mj\u001b[0m\u001b[0;34m]\u001b[0m \u001b[0;34m=\u001b[0m \u001b[0;32mFalse\u001b[0m\u001b[0;34m\u001b[0m\u001b[0;34m\u001b[0m\u001b[0m\n\u001b[1;32m     49\u001b[0m             \u001b[0;32mif\u001b[0m\u001b[0;34m(\u001b[0m\u001b[0mvis\u001b[0m\u001b[0;34m[\u001b[0m\u001b[0mj\u001b[0m\u001b[0;34m]\u001b[0m\u001b[0;34m)\u001b[0m\u001b[0;34m:\u001b[0m\u001b[0;34m\u001b[0m\u001b[0;34m\u001b[0m\u001b[0m\n\u001b[0;32m---> 50\u001b[0;31m                 \u001b[0mΓ\u001b[0m \u001b[0;34m+=\u001b[0m \u001b[0mΓ_dAt\u001b[0m\u001b[0;34m(\u001b[0m\u001b[0mC\u001b[0m\u001b[0;34m[\u001b[0m\u001b[0mj\u001b[0m\u001b[0;34m,\u001b[0m\u001b[0;34m:\u001b[0m\u001b[0;34m]\u001b[0m\u001b[0;34m,\u001b[0m \u001b[0;34m-\u001b[0m\u001b[0mM\u001b[0m\u001b[0;34m[\u001b[0m\u001b[0mj\u001b[0m\u001b[0;34m]\u001b[0m\u001b[0;34m,\u001b[0m \u001b[0me_in\u001b[0m\u001b[0;34m)\u001b[0m\u001b[0;34m\u001b[0m\u001b[0;34m\u001b[0m\u001b[0m\n\u001b[0m\u001b[1;32m     51\u001b[0m     \u001b[0;32mreturn\u001b[0m \u001b[0mΓ\u001b[0m\u001b[0;34m\u001b[0m\u001b[0;34m\u001b[0m\u001b[0m\n\u001b[1;32m     52\u001b[0m \u001b[0;34m\u001b[0m\u001b[0m\n",
      "\u001b[0;31mNameError\u001b[0m: name 'M' is not defined"
     ]
    }
   ],
   "source": [
    "# Use the ZX'Z''- intrinsic rotation notation, where following angles \n",
    "# are in corresponding order\n",
    "λ = 0\n",
    "β = 0\n",
    "φ = np.linspace(0, 2*π, 100)\n",
    "\n",
    "#print(Γ_LS(P,T,C,N,φ=0,β=0,λ=0,convex=False))\n",
    "#print(Γ_LS(P,T,C,N,φ=π,β=0,λ=0,convex=False))\n",
    "#print(Γ_LS(P,T,C,N,φ=2*π,β=0,λ=0,convex=False))\n",
    "\n",
    "Γ = np.zeros([φ.size, 3])\n",
    "\n",
    "#Γ_LSt(P, T, C, N, φ = π/7, β = β, λ = λ, convex = False)\n",
    "\n",
    "for i, fi in enumerate(φ):\n",
    "    Γ[i,:] = Γ_LS(P, T, C, N, φ = fi, β = β, λ = λ, convex = False)\n",
    "    if np.mod(i,10)==10: print((i+1),'/',φ.size)"
   ]
  },
  {
   "cell_type": "code",
   "execution_count": null,
   "metadata": {},
   "outputs": [],
   "source": [
    "fig1 = plot_mesh(P, T, C, N)"
   ]
  },
  {
   "cell_type": "code",
   "execution_count": null,
   "metadata": {
    "scrolled": false
   },
   "outputs": [],
   "source": [
    "fig = plt.figure(figsize=(8,8))\n",
    "\n",
    "plt.plot(φ/(2*π),Γ[:,0],label=r'$Γ_x$')\n",
    "plt.plot(φ/(2*π),Γ[:,1],'--',label=r'$Γ_y$')\n",
    "plt.plot(φ/(2*π),Γ[:,2],':',label=r'$Γ_z$')\n",
    "plt.xlabel('Rotational phase')\n",
    "plt.ylabel('Torque')\n",
    "plt.legend()\n",
    "plt.xlim([0,1])\n",
    "plt.show()"
   ]
  },
  {
   "cell_type": "code",
   "execution_count": null,
   "metadata": {
    "scrolled": false
   },
   "outputs": [],
   "source": [
    "a = 1\n",
    "b = 1\n",
    "c = 1\n",
    "n = 5000\n",
    "\n",
    "Ps, Ts, Ns, Cs = ellipsoid_points(a, b, c, n)\n",
    "fig = plot_mesh(Ps, Ts, Cs, Ns)"
   ]
  },
  {
   "cell_type": "code",
   "execution_count": null,
   "metadata": {},
   "outputs": [],
   "source": [
    "λ = 0\n",
    "β = 0\n",
    "φ = np.linspace(0, 2*π, 100)\n",
    "\n",
    "ΓS = np.zeros([φ.size, 3])\n",
    "\n",
    "for i, fi in enumerate(φ):\n",
    "    ΓS[i,:] = Γ_LS(Ps, Ts, Cs, Ns, φ = fi, β = β, λ = λ)\n",
    "    if np.mod(i,φ.size/10)==0: print((i+1),'/',φ.size)"
   ]
  },
  {
   "cell_type": "code",
   "execution_count": null,
   "metadata": {},
   "outputs": [],
   "source": [
    "fig = plt.figure(figsize=(8,8))\n",
    "\n",
    "plt.plot(φ/(2*π),ΓS[:,0],label=r'$Γ_x$')\n",
    "plt.plot(φ/(2*π),ΓS[:,1],'--',label=r'$Γ_y$')\n",
    "plt.plot(φ/(2*π),ΓS[:,2],':',label=r'$Γ_z$')\n",
    "plt.xlabel('Rotational phase')\n",
    "plt.ylabel('Torque')\n",
    "plt.legend()\n",
    "plt.xlim([0,1])\n",
    "plt.show()"
   ]
  }
 ],
 "metadata": {
  "kernelspec": {
   "display_name": "Python 3",
   "language": "python",
   "name": "python3"
  },
  "language_info": {
   "codemirror_mode": {
    "name": "ipython",
    "version": 3
   },
   "file_extension": ".py",
   "mimetype": "text/x-python",
   "name": "python",
   "nbconvert_exporter": "python",
   "pygments_lexer": "ipython3",
   "version": "3.6.9"
  }
 },
 "nbformat": 4,
 "nbformat_minor": 2
}
