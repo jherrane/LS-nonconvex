{
 "cells": [
  {
   "cell_type": "code",
   "execution_count": 1,
   "metadata": {},
   "outputs": [],
   "source": [
    "%matplotlib notebook\n",
    "import numpy as np, matplotlib.pyplot as plt\n",
    "from mpl_toolkits.mplot3d import Axes3D\n",
    "from mpl_toolkits import mplot3d\n",
    "from points import *\n",
    "from LS import *\n",
    "from scipy.spatial.transform import Rotation as R\n",
    "from numpy import pi as π, sin, cos, tan, sqrt, log, arctanh\n",
    "from matplotlib import cm\n",
    "\n",
    "plt.rcParams[\"font.family\"] = \"Lucida Grande\"\n",
    "plt.rcParams[\"font.size\"] = 16\n",
    "plt.style.use(\"ggplot\")\n",
    "\n",
    "# Silly hacks for avoiding singular points and not showing rotation matrix warnings\n",
    "zero = 1e-3\n",
    "import warnings\n",
    "warnings.filterwarnings(\"ignore\")"
   ]
  },
  {
   "cell_type": "code",
   "execution_count": 2,
   "metadata": {},
   "outputs": [],
   "source": [
    "a = 1\n",
    "b = 0.86\n",
    "c = 0.82\n",
    "n = 500\n",
    "\n",
    "P, T = genellip(a, b, c, n, sigma=0.12, ell = 0.3, gid = 1)  \n",
    "T, N, C = surface_normals(P, T)"
   ]
  },
  {
   "cell_type": "code",
   "execution_count": 3,
   "metadata": {},
   "outputs": [
    {
     "name": "stdout",
     "output_type": "stream",
     "text": [
      "1 / 100\n"
     ]
    },
    {
     "ename": "KeyboardInterrupt",
     "evalue": "",
     "output_type": "error",
     "traceback": [
      "\u001b[0;31m---------------------------------------------------------------------------\u001b[0m",
      "\u001b[0;31mKeyboardInterrupt\u001b[0m                         Traceback (most recent call last)",
      "\u001b[0;32m<ipython-input-3-17a536176d91>\u001b[0m in \u001b[0;36m<module>\u001b[0;34m()\u001b[0m\n\u001b[1;32m     14\u001b[0m \u001b[0;34m\u001b[0m\u001b[0m\n\u001b[1;32m     15\u001b[0m \u001b[0;32mfor\u001b[0m \u001b[0mi\u001b[0m\u001b[0;34m,\u001b[0m \u001b[0mfi\u001b[0m \u001b[0;32min\u001b[0m \u001b[0menumerate\u001b[0m\u001b[0;34m(\u001b[0m\u001b[0mφ\u001b[0m\u001b[0;34m)\u001b[0m\u001b[0;34m:\u001b[0m\u001b[0;34m\u001b[0m\u001b[0;34m\u001b[0m\u001b[0m\n\u001b[0;32m---> 16\u001b[0;31m     \u001b[0mΓ\u001b[0m\u001b[0;34m[\u001b[0m\u001b[0mi\u001b[0m\u001b[0;34m,\u001b[0m\u001b[0;34m:\u001b[0m\u001b[0;34m]\u001b[0m \u001b[0;34m=\u001b[0m \u001b[0mΓ_LS\u001b[0m\u001b[0;34m(\u001b[0m\u001b[0mP\u001b[0m\u001b[0;34m,\u001b[0m \u001b[0mT\u001b[0m\u001b[0;34m,\u001b[0m \u001b[0mC\u001b[0m\u001b[0;34m,\u001b[0m \u001b[0mN\u001b[0m\u001b[0;34m,\u001b[0m \u001b[0mφ\u001b[0m \u001b[0;34m=\u001b[0m \u001b[0mfi\u001b[0m\u001b[0;34m,\u001b[0m \u001b[0mβ\u001b[0m \u001b[0;34m=\u001b[0m \u001b[0mβ\u001b[0m\u001b[0;34m,\u001b[0m \u001b[0mλ\u001b[0m \u001b[0;34m=\u001b[0m \u001b[0mλ\u001b[0m\u001b[0;34m,\u001b[0m \u001b[0mconvex\u001b[0m \u001b[0;34m=\u001b[0m \u001b[0;32mFalse\u001b[0m\u001b[0;34m)\u001b[0m\u001b[0;34m\u001b[0m\u001b[0;34m\u001b[0m\u001b[0m\n\u001b[0m\u001b[1;32m     17\u001b[0m     \u001b[0;32mif\u001b[0m \u001b[0mnp\u001b[0m\u001b[0;34m.\u001b[0m\u001b[0mmod\u001b[0m\u001b[0;34m(\u001b[0m\u001b[0mi\u001b[0m\u001b[0;34m,\u001b[0m\u001b[0;36m10\u001b[0m\u001b[0;34m)\u001b[0m\u001b[0;34m==\u001b[0m\u001b[0;36m0\u001b[0m\u001b[0;34m:\u001b[0m \u001b[0mprint\u001b[0m\u001b[0;34m(\u001b[0m\u001b[0;34m(\u001b[0m\u001b[0mi\u001b[0m\u001b[0;34m+\u001b[0m\u001b[0;36m1\u001b[0m\u001b[0;34m)\u001b[0m\u001b[0;34m,\u001b[0m\u001b[0;34m'/'\u001b[0m\u001b[0;34m,\u001b[0m\u001b[0mφ\u001b[0m\u001b[0;34m.\u001b[0m\u001b[0msize\u001b[0m\u001b[0;34m)\u001b[0m\u001b[0;34m\u001b[0m\u001b[0;34m\u001b[0m\u001b[0m\n",
      "\u001b[0;32m/home/joonas/Documents/LS-nonconvex/LS.py\u001b[0m in \u001b[0;36mΓ_LS\u001b[0;34m(P, T, C, N, φ, β, λ, convex)\u001b[0m\n\u001b[1;32m    130\u001b[0m                 \u001b[0;32mfor\u001b[0m \u001b[0mjjj\u001b[0m \u001b[0;32min\u001b[0m \u001b[0mjj\u001b[0m\u001b[0;34m[\u001b[0m\u001b[0;36m0\u001b[0m\u001b[0;34m:\u001b[0m\u001b[0mi\u001b[0m\u001b[0;34m]\u001b[0m\u001b[0;34m:\u001b[0m\u001b[0;34m\u001b[0m\u001b[0;34m\u001b[0m\u001b[0m\n\u001b[1;32m    131\u001b[0m                     \u001b[0mt\u001b[0m \u001b[0;34m=\u001b[0m \u001b[0mT\u001b[0m\u001b[0;34m[\u001b[0m\u001b[0mjjj\u001b[0m\u001b[0;34m]\u001b[0m\u001b[0;34m\u001b[0m\u001b[0;34m\u001b[0m\u001b[0m\n\u001b[0;32m--> 132\u001b[0;31m                     \u001b[0;32mif\u001b[0m \u001b[0mPointInTriangle\u001b[0m\u001b[0;34m(\u001b[0m\u001b[0mpoint\u001b[0m\u001b[0;34m,\u001b[0m \u001b[0mP\u001b[0m\u001b[0;34m[\u001b[0m\u001b[0mt\u001b[0m\u001b[0;34m,\u001b[0m \u001b[0;36m1\u001b[0m\u001b[0;34m:\u001b[0m\u001b[0;36m3\u001b[0m\u001b[0;34m]\u001b[0m\u001b[0;34m)\u001b[0m\u001b[0;34m:\u001b[0m\u001b[0;34m\u001b[0m\u001b[0;34m\u001b[0m\u001b[0m\n\u001b[0m\u001b[1;32m    133\u001b[0m                         \u001b[0mvis\u001b[0m\u001b[0;34m[\u001b[0m\u001b[0mj\u001b[0m\u001b[0;34m]\u001b[0m \u001b[0;34m=\u001b[0m \u001b[0;32mFalse\u001b[0m\u001b[0;34m\u001b[0m\u001b[0;34m\u001b[0m\u001b[0m\n\u001b[1;32m    134\u001b[0m                 \u001b[0;32mif\u001b[0m \u001b[0mvis\u001b[0m\u001b[0;34m[\u001b[0m\u001b[0mj\u001b[0m\u001b[0;34m]\u001b[0m\u001b[0;34m:\u001b[0m\u001b[0;34m\u001b[0m\u001b[0;34m\u001b[0m\u001b[0m\n",
      "\u001b[0;31mKeyboardInterrupt\u001b[0m: "
     ]
    }
   ],
   "source": [
    "# Use the ZX'Z''- intrinsic rotation notation, where following angles \n",
    "# are in corresponding order\n",
    "λ = 0\n",
    "β = 0\n",
    "φ = np.linspace(0, 2*π, 100)\n",
    "\n",
    "#print(Γ_LS(P,T,C,N,φ=0,β=0,λ=0,convex=False))\n",
    "#print(Γ_LS(P,T,C,N,φ=π,β=0,λ=0,convex=False))\n",
    "#print(Γ_LS(P,T,C,N,φ=2*π,β=0,λ=0,convex=False))\n",
    "\n",
    "Γ = np.zeros([φ.size, 3])\n",
    "\n",
    "#Γ_LSt(P, T, C, N, φ = π/7, β = β, λ = λ, convex = False)\n",
    "\n",
    "for i, fi in enumerate(φ):\n",
    "    Γ[i,:] = Γ_LS(P, T, C, N, φ = fi, β = β, λ = λ, convex = True)\n",
    "    if np.mod(i,10)==0: print((i+1),'/',φ.size)"
   ]
  },
  {
   "cell_type": "code",
   "execution_count": null,
   "metadata": {},
   "outputs": [],
   "source": [
    "fig1 = plot_mesh(P, T, C, N)"
   ]
  },
  {
   "cell_type": "code",
   "execution_count": null,
   "metadata": {
    "scrolled": false
   },
   "outputs": [],
   "source": [
    "fig = plt.figure(figsize=(8,8))\n",
    "\n",
    "plt.plot(φ/(2*π),Γ[:,0],label=r'$Γ_x$')\n",
    "plt.plot(φ/(2*π),Γ[:,1],'--',label=r'$Γ_y$')\n",
    "plt.plot(φ/(2*π),Γ[:,2],':',label=r'$Γ_z$')\n",
    "plt.xlabel('Rotational phase')\n",
    "plt.ylabel('Torque')\n",
    "plt.legend()\n",
    "plt.xlim([0,1])\n",
    "plt.show()"
   ]
  },
  {
   "cell_type": "code",
   "execution_count": null,
   "metadata": {},
   "outputs": [],
   "source": [
    "from scipy import integrate\n",
    "\n",
    "fig = plt.figure()\n",
    "Γx_int = integrate.cumtrapz(Γ[:,0], φ, initial=0)\n",
    "Γy_int = integrate.cumtrapz(Γ[:,1], φ, initial=0)\n",
    "Γz_int = integrate.cumtrapz(Γ[:,2], φ, initial=0)\n",
    "plt.plot(φ/(2*π), Γx_int, '-')\n",
    "plt.plot(φ/(2*π), Γy_int, '--')\n",
    "plt.plot(φ/(2*π), Γz_int, ':')\n",
    "plt.xlim([0,1])\n",
    "plt.xlabel('Rotational Phase')\n",
    "plt.ylabel(r'$\\int\\mathrm{d}φ \\Gamma(φ)$')\n",
    "\n",
    "plt.show()"
   ]
  },
  {
   "cell_type": "code",
   "execution_count": null,
   "metadata": {
    "scrolled": false
   },
   "outputs": [],
   "source": [
    "a = 1\n",
    "b = 0.86\n",
    "c = 0.82\n",
    "n = 2000\n",
    "\n",
    "Ps, Ts, Ns, Cs = ellipsoid_points(a, b, c, n)\n",
    "fig = plot_mesh(Ps, Ts, Cs, Ns)"
   ]
  },
  {
   "cell_type": "code",
   "execution_count": null,
   "metadata": {},
   "outputs": [],
   "source": [
    "λ = 0\n",
    "β = 0\n",
    "φS = np.linspace(0, 2*π, 100)\n",
    "\n",
    "ΓS = np.zeros([φ.size, 3])\n",
    "\n",
    "for i, fi in enumerate(φS):\n",
    "    ΓS[i,:] = Γ_LS(Ps, Ts, Cs, Ns, φ = fi, β = β, λ = λ)\n",
    "    if np.mod(i,φ.size/10)==0: print((i+1),'/',φ.size)"
   ]
  },
  {
   "cell_type": "code",
   "execution_count": null,
   "metadata": {},
   "outputs": [],
   "source": [
    "fig = plt.figure(figsize=(8,8))\n",
    "\n",
    "plt.plot(φS/(2*π),ΓS[:,0],label=r'$Γ_x$')\n",
    "plt.plot(φS/(2*π),ΓS[:,1],'--',label=r'$Γ_y$')\n",
    "plt.plot(φS/(2*π),ΓS[:,2],':',label=r'$Γ_z$')\n",
    "plt.xlabel('Rotational phase')\n",
    "plt.ylabel('Torque')\n",
    "plt.legend()\n",
    "plt.xlim([0,1])\n",
    "plt.show()"
   ]
  },
  {
   "cell_type": "code",
   "execution_count": null,
   "metadata": {},
   "outputs": [],
   "source": [
    "from scipy import integrate\n",
    "\n",
    "fig = plt.figure()\n",
    "Γx_int = integrate.cumtrapz(ΓS[:,0], φ, initial=0)\n",
    "Γy_int = integrate.cumtrapz(ΓS[:,1], φ, initial=0)\n",
    "Γz_int = integrate.cumtrapz(ΓS[:,2], φ, initial=0)\n",
    "plt.plot(φ/(2*π), Γx_int, '-')\n",
    "plt.plot(φ/(2*π), Γy_int, '--')\n",
    "plt.plot(φ/(2*π), Γz_int, ':')\n",
    "plt.xlim([0,1])\n",
    "plt.xlabel('Rotational Phase')\n",
    "plt.ylabel(r'$\\int\\mathrm{d}φ \\Gamma(φ)$')\n",
    "\n",
    "plt.show()"
   ]
  }
 ],
 "metadata": {
  "kernelspec": {
   "display_name": "Python 3",
   "language": "python",
   "name": "python3"
  },
  "language_info": {
   "codemirror_mode": {
    "name": "ipython",
    "version": 3
   },
   "file_extension": ".py",
   "mimetype": "text/x-python",
   "name": "python",
   "nbconvert_exporter": "python",
   "pygments_lexer": "ipython3",
   "version": "3.6.9"
  }
 },
 "nbformat": 4,
 "nbformat_minor": 2
}
