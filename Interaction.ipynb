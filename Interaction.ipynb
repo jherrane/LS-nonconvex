{
 "cells": [
  {
   "cell_type": "code",
   "execution_count": 1,
   "metadata": {},
   "outputs": [],
   "source": [
    "%matplotlib widget\n",
    "import numpy as np, matplotlib.pyplot as plt\n",
    "from mpl_toolkits.mplot3d import Axes3D\n",
    "from mpl_toolkits import mplot3d\n",
    "from points import *\n",
    "from LS import *\n",
    "from scipy.spatial.transform import Rotation as R\n",
    "from numpy import pi as π\n",
    "from matplotlib import cm\n",
    "import ipywidgets as widgets\n",
    "\n",
    "plt.rcParams[\"font.family\"] = \"Lucida Grande\"\n",
    "plt.rcParams[\"font.size\"] = 16\n",
    "plt.style.use(\"ggplot\")\n",
    "\n",
    "# Silly hacks for avoiding singular points and not showing rotation matrix warnings\n",
    "zero = 1e-3\n",
    "import warnings\n",
    "warnings.filterwarnings(\"ignore\")"
   ]
  },
  {
   "cell_type": "code",
   "execution_count": 2,
   "metadata": {
    "scrolled": false
   },
   "outputs": [
    {
     "data": {
      "application/vnd.jupyter.widget-view+json": {
       "model_id": "c958a11d339648839810b15267e4d551",
       "version_major": 2,
       "version_minor": 0
      },
      "text/plain": [
       "Canvas(toolbar=Toolbar(toolitems=[('Home', 'Reset original view', 'home', 'home'), ('Back', 'Back to previous …"
      ]
     },
     "metadata": {},
     "output_type": "display_data"
    },
    {
     "data": {
      "application/vnd.jupyter.widget-view+json": {
       "model_id": "7b1541d0d0c14d2fbf8ce6c47ac437b2",
       "version_major": 2,
       "version_minor": 0
      },
      "text/plain": [
       "interactive(children=(IntSlider(value=1, description='a', max=3, min=-1), FloatSlider(value=0.86, description=…"
      ]
     },
     "metadata": {},
     "output_type": "display_data"
    }
   ],
   "source": [
    "# Test that the bottom left subfigure of Fig. 1 of\n",
    "# Muinonen & Lumme (2015) is reproduced\n",
    "a = 1; b = 0.86; c = 0.82\n",
    "φ = np.linspace(0,2*π,100)\n",
    "\n",
    "def test_L(a,b,c):\n",
    "    φ = np.linspace(0,2*π,100)\n",
    "    L1 = np.zeros(φ.size)\n",
    "    L2 = np.zeros(φ.size)\n",
    "    L3 = np.zeros(φ.size)\n",
    "    for i, fi in enumerate(φ):\n",
    "        L1[i] = Φ_LS_a(a,b,c,α=0,β=0,λ=0,φ=fi)\n",
    "        L2[i] = Φ_LS_a(a,b,c,α=0,β=60*π/180,λ=0,φ=fi)\n",
    "        L3[i] = Φ_LS_a(a,b,c,α=0,β=60*π/180,λ=45*π/180,φ=fi)\n",
    "    return L1,L2,L3\n",
    "\n",
    "fig, ax = plt.subplots(figsize=(7,8))\n",
    "ax.set_xlim([0,1])\n",
    "ax.set_xlabel('Rotational phase')\n",
    "ax.set_ylabel('Normalized brightness')\n",
    "#ax.set_ylim([0.8,1.2])\n",
    "\n",
    "@widgets.interact(a=1, b=(0,1,0.01), c=(0,1,0.01))\n",
    "def update(a = 1, b = 0.86, c = 0.82):\n",
    "    [l.remove() for l in ax.lines]\n",
    "    L1, L2, L3 = test_L(a,b,c)\n",
    "    ax.plot(φ/(2*π), L1/(0.5*(np.amax(L1)+np.amin(L1))))\n",
    "    ax.plot(φ/(2*π), L2/(0.5*(np.amax(L2)+np.amin(L2))),'--')\n",
    "    ax.plot(φ/(2*π), L3/(0.5*(np.amax(L3)+np.amin(L3))),':')\n"
   ]
  },
  {
   "cell_type": "code",
   "execution_count": 5,
   "metadata": {},
   "outputs": [
    {
     "data": {
      "application/vnd.jupyter.widget-view+json": {
       "model_id": "c0fbe6002a5f4a09b2f9e6ea03496387",
       "version_major": 2,
       "version_minor": 0
      },
      "text/plain": [
       "Text(value='hello')"
      ]
     },
     "metadata": {},
     "output_type": "display_data"
    }
   ],
   "source": []
  }
 ],
 "metadata": {
  "kernelspec": {
   "display_name": "Python 3",
   "language": "python",
   "name": "python3"
  },
  "language_info": {
   "codemirror_mode": {
    "name": "ipython",
    "version": 3
   },
   "file_extension": ".py",
   "mimetype": "text/x-python",
   "name": "python",
   "nbconvert_exporter": "python",
   "pygments_lexer": "ipython3",
   "version": "3.6.9"
  }
 },
 "nbformat": 4,
 "nbformat_minor": 2
}
