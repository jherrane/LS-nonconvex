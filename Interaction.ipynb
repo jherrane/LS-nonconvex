{
 "cells": [
  {
   "cell_type": "code",
   "execution_count": 1,
   "metadata": {},
   "outputs": [],
   "source": [
    "%matplotlib inline\n",
    "import numpy as np, matplotlib.pyplot as plt\n",
    "from points import *\n",
    "from LS import *\n",
    "from numpy import pi as π\n",
    "import ipywidgets as widgets\n",
    "\n",
    "plt.rcParams[\"font.family\"] = \"Lucida Grande\"\n",
    "plt.rcParams[\"font.size\"] = 16\n",
    "plt.style.use(\"ggplot\")\n",
    "\n",
    "# Silly hacks for avoiding singular points and not showing rotation matrix warnings\n",
    "zero = 1e-3\n",
    "import warnings\n",
    "warnings.filterwarnings(\"ignore\")"
   ]
  },
  {
   "cell_type": "code",
   "execution_count": 17,
   "metadata": {
    "scrolled": false
   },
   "outputs": [
    {
     "data": {
      "application/vnd.jupyter.widget-view+json": {
       "model_id": "074f2baec04b4640b180bcec2becb427",
       "version_major": 2,
       "version_minor": 0
      },
      "text/plain": [
       "interactive(children=(IntSlider(value=0, description='α', max=180), IntSlider(value=0, description='β', max=90…"
      ]
     },
     "metadata": {},
     "output_type": "display_data"
    }
   ],
   "source": [
    "a = 1; b = 0.86; c = 0.82\n",
    "φ = np.linspace(0,2*π,100)\n",
    "\n",
    "def test_L(α, β, λ):\n",
    "    φ = np.linspace(0,2*π,100)\n",
    "    L1 = np.zeros(φ.size)\n",
    "    for i, fi in enumerate(φ):\n",
    "        L1[i] = Φ_LS_a(a,b,c,α=α,β=β,λ=λ,φ=fi)\n",
    "    return L1\n",
    "\n",
    "def update(α = 0, β = 0., λ = 0.):\n",
    "    fig, ax = plt.subplots(figsize=(7,8))\n",
    "    ax.set_xlim([0,1])\n",
    "    ax.set_xlabel('Rotational phase')\n",
    "    ax.set_ylabel('Normalized brightness')\n",
    "\n",
    "    L1 = test_L(α*π/180, β*π/180, λ*π/180)\n",
    "    ax.plot(φ/(2*π), L1/(0.5*(np.amax(L1)+np.amin(L1))))\n",
    "    plt.show()\n",
    "\n",
    "iplot = widgets.interactive(update, α = (0,180,1), β=(0,90,1), λ=(0,360,1))\n",
    "output = iplot.children[-1]\n",
    "iplot"
   ]
  },
  {
   "cell_type": "code",
   "execution_count": null,
   "metadata": {},
   "outputs": [],
   "source": [
    "%matplotlib inline\n",
    "def f(m, b):\n",
    "    plt.figure(2)\n",
    "    x = np.linspace(-10, 10, num=1000)\n",
    "    plt.plot(x, m * x + b)\n",
    "    plt.ylim(-5, 5)\n",
    "    plt.show()\n",
    "\n",
    "interactive_plot = widgets.interactive(f, m=(-2.0, 2.0), b=(-3, 3, 0.5))\n",
    "output = interactive_plot.children[-1]\n",
    "output.layout.height = '350px'\n",
    "interactive_plot\n"
   ]
  }
 ],
 "metadata": {
  "kernelspec": {
   "display_name": "Python 3",
   "language": "python",
   "name": "python3"
  },
  "language_info": {
   "codemirror_mode": {
    "name": "ipython",
    "version": 3
   },
   "file_extension": ".py",
   "mimetype": "text/x-python",
   "name": "python",
   "nbconvert_exporter": "python",
   "pygments_lexer": "ipython3",
   "version": "3.6.9"
  }
 },
 "nbformat": 4,
 "nbformat_minor": 2
}
